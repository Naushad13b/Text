{
  "nbformat": 4,
  "nbformat_minor": 0,
  "metadata": {
    "colab": {
      "name": "00)TextMining.ipynb",
      "provenance": [],
      "authorship_tag": "ABX9TyPfdQN5md5uQDTRzdR22scp",
      "include_colab_link": true
    },
    "kernelspec": {
      "name": "python3",
      "display_name": "Python 3"
    },
    "language_info": {
      "name": "python"
    }
  },
  "cells": [
    {
      "cell_type": "markdown",
      "metadata": {
        "id": "view-in-github",
        "colab_type": "text"
      },
      "source": [
        "<a href=\"https://colab.research.google.com/github/Naushad13b/Text/blob/main/00)TextMining.ipynb\" target=\"_parent\"><img src=\"https://colab.research.google.com/assets/colab-badge.svg\" alt=\"Open In Colab\"/></a>"
      ]
    },
    {
      "cell_type": "code",
      "execution_count": 1,
      "metadata": {
        "colab": {
          "base_uri": "https://localhost:8080/"
        },
        "id": "pSOnpsMz35qw",
        "outputId": "ca4d6142-6e07-4077-f390-d0874482ec2f"
      },
      "outputs": [
        {
          "output_type": "stream",
          "name": "stdout",
          "text": [
            "              precision    recall  f1-score   support\n",
            "\n",
            "           0       0.68      0.61      0.65       319\n",
            "           1       0.57      0.69      0.62       389\n",
            "           2       0.65      0.74      0.69       394\n",
            "           3       0.70      0.63      0.66       392\n",
            "           4       0.72      0.79      0.75       385\n",
            "           5       0.76      0.69      0.72       395\n",
            "           6       0.71      0.92      0.80       390\n",
            "           7       0.82      0.78      0.80       396\n",
            "           8       0.90      0.92      0.91       398\n",
            "           9       0.81      0.87      0.84       397\n",
            "          10       0.88      0.92      0.90       399\n",
            "          11       0.86      0.91      0.88       396\n",
            "          12       0.67      0.50      0.57       393\n",
            "          13       0.83      0.67      0.74       396\n",
            "          14       0.81      0.88      0.85       394\n",
            "          15       0.69      0.93      0.79       398\n",
            "          16       0.65      0.87      0.75       364\n",
            "          17       0.95      0.78      0.85       376\n",
            "          18       0.87      0.48      0.62       310\n",
            "          19       0.81      0.31      0.45       251\n",
            "\n",
            "    accuracy                           0.76      7532\n",
            "   macro avg       0.77      0.74      0.74      7532\n",
            "weighted avg       0.77      0.76      0.75      7532\n",
            "\n"
          ]
        }
      ],
      "source": [
        "from sklearn.ensemble import RandomForestClassifier\n",
        "from sklearn.pipeline import Pipeline\n",
        "from sklearn import metrics\n",
        "from sklearn.feature_extraction.text import CountVectorizer\n",
        "from sklearn.feature_extraction.text import TfidfTransformer\n",
        "from sklearn.datasets import fetch_20newsgroups\n",
        "\n",
        "newsgroups_train = fetch_20newsgroups(subset='train')\n",
        "newsgroups_test = fetch_20newsgroups(subset='test')\n",
        "X_train = newsgroups_train.data\n",
        "X_test = newsgroups_test.data\n",
        "y_train = newsgroups_train.target\n",
        "y_test = newsgroups_test.target\n",
        "\n",
        "text_clf = Pipeline([('vect', CountVectorizer()),\n",
        "                     ('tfidf', TfidfTransformer()),\n",
        "                     ('clf', RandomForestClassifier(n_estimators=100)),\n",
        "                     ])\n",
        "\n",
        "text_clf.fit(X_train, y_train)\n",
        "\n",
        "\n",
        "predicted = text_clf.predict(X_test)\n",
        "\n",
        "print(metrics.classification_report(y_test, predicted))"
      ]
    },
    {
      "cell_type": "code",
      "source": [
        ""
      ],
      "metadata": {
        "id": "J8idczC038GN"
      },
      "execution_count": null,
      "outputs": []
    }
  ]
}